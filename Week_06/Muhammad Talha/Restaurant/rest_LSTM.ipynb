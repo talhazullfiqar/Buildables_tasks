{
 "cells": [
  {
   "cell_type": "code",
   "execution_count": 1,
   "id": "57225189",
   "metadata": {},
   "outputs": [],
   "source": [
    "import pandas as pd\n",
    "import numpy as np\n",
    "import re\n",
    "import tensorflow as tf\n",
    "from tensorflow.keras.preprocessing.text import Tokenizer\n",
    "from tensorflow.keras.preprocessing.sequence import pad_sequences\n",
    "from tensorflow.keras.models import Sequential\n",
    "from tensorflow.keras.layers import Embedding, LSTM, Dense, Input\n",
    "from tensorflow.keras.callbacks import EarlyStopping\n"
   ]
  },
  {
   "cell_type": "code",
   "execution_count": 2,
   "id": "8e37bb5f",
   "metadata": {},
   "outputs": [],
   "source": [
    "# 1. Load dataset\n",
    "dataset = pd.read_csv('Restaurant_Reviews.tsv', delimiter='\\t', quoting=3)\n"
   ]
  },
  {
   "cell_type": "code",
   "execution_count": 3,
   "id": "52fabd4c",
   "metadata": {},
   "outputs": [],
   "source": [
    "# Extract texts and labels\n",
    "texts = dataset['Review'].values\n",
    "labels = dataset['Liked'].values"
   ]
  },
  {
   "cell_type": "code",
   "execution_count": 4,
   "id": "c66535ef",
   "metadata": {},
   "outputs": [],
   "source": [
    "\n",
    "# 2. Text preprocessing (simple cleaning)\n",
    "def clean_text(text):\n",
    "    text = re.sub(r\"[^a-zA-Z]\", \" \", text)  # remove non-letters\n",
    "    text = text.lower()\n",
    "    text = text.split()\n",
    "    return \" \".join(text)\n",
    "\n",
    "texts = [clean_text(t) for t in texts]\n"
   ]
  },
  {
   "cell_type": "code",
   "execution_count": 5,
   "id": "5a39f6b8",
   "metadata": {},
   "outputs": [],
   "source": [
    "\n",
    "# 3. Tokenization & Padding\n",
    "vocab_size = 5000   # limit vocabulary size\n",
    "maxlen = 100        # max sequence length\n",
    "embedding_dim = 100\n",
    "\n",
    "tokenizer = Tokenizer(num_words=vocab_size)\n",
    "tokenizer.fit_on_texts(texts)\n",
    "X = tokenizer.texts_to_sequences(texts)\n",
    "X = pad_sequences(X, maxlen=maxlen)\n",
    "\n",
    "y = np.array(labels)\n"
   ]
  },
  {
   "cell_type": "code",
   "execution_count": 6,
   "id": "6afa7be6",
   "metadata": {},
   "outputs": [],
   "source": [
    "\n",
    "# 4. Train-test split\n",
    "from sklearn.model_selection import train_test_split\n",
    "X_train, X_test, y_train, y_test = train_test_split(X, y, test_size=0.2, random_state=42)"
   ]
  },
  {
   "cell_type": "code",
   "execution_count": 7,
   "id": "a519771b",
   "metadata": {},
   "outputs": [],
   "source": [
    "\n",
    "# 5. Build LSTM Model\n",
    "model = Sequential()\n",
    "model.add(Input(shape=(maxlen,)))\n",
    "model.add(Embedding(vocab_size, embedding_dim))\n",
    "model.add(LSTM(128, dropout=0.2, recurrent_dropout=0.2))\n",
    "model.add(Dense(1, activation='sigmoid'))\n",
    "model.compile(loss='binary_crossentropy',\n",
    "              optimizer='adam',\n",
    "              metrics=['accuracy'])"
   ]
  },
  {
   "cell_type": "code",
   "execution_count": 8,
   "id": "45cb1ffc",
   "metadata": {},
   "outputs": [],
   "source": [
    "#  early Stoppings\n",
    "\n",
    "earlyStopping = EarlyStopping(monitor='val_loss',patience=2,restore_best_weights=True)"
   ]
  },
  {
   "cell_type": "code",
   "execution_count": 9,
   "id": "a287969c",
   "metadata": {},
   "outputs": [
    {
     "name": "stdout",
     "output_type": "stream",
     "text": [
      "Epoch 1/10\n",
      "\u001b[1m25/25\u001b[0m \u001b[32m━━━━━━━━━━━━━━━━━━━━\u001b[0m\u001b[37m\u001b[0m \u001b[1m5s\u001b[0m 119ms/step - accuracy: 0.5250 - loss: 0.6917 - val_accuracy: 0.5600 - val_loss: 0.6879\n",
      "Epoch 2/10\n",
      "\u001b[1m25/25\u001b[0m \u001b[32m━━━━━━━━━━━━━━━━━━━━\u001b[0m\u001b[37m\u001b[0m \u001b[1m2s\u001b[0m 86ms/step - accuracy: 0.7600 - loss: 0.6357 - val_accuracy: 0.7050 - val_loss: 0.6237\n",
      "Epoch 3/10\n",
      "\u001b[1m25/25\u001b[0m \u001b[32m━━━━━━━━━━━━━━━━━━━━\u001b[0m\u001b[37m\u001b[0m \u001b[1m2s\u001b[0m 89ms/step - accuracy: 0.8363 - loss: 0.4361 - val_accuracy: 0.7150 - val_loss: 0.5684\n",
      "Epoch 4/10\n",
      "\u001b[1m25/25\u001b[0m \u001b[32m━━━━━━━━━━━━━━━━━━━━\u001b[0m\u001b[37m\u001b[0m \u001b[1m2s\u001b[0m 82ms/step - accuracy: 0.9262 - loss: 0.2512 - val_accuracy: 0.6850 - val_loss: 0.6679\n",
      "Epoch 5/10\n",
      "\u001b[1m25/25\u001b[0m \u001b[32m━━━━━━━━━━━━━━━━━━━━\u001b[0m\u001b[37m\u001b[0m \u001b[1m2s\u001b[0m 86ms/step - accuracy: 0.9212 - loss: 0.2248 - val_accuracy: 0.7400 - val_loss: 0.5250\n",
      "Epoch 6/10\n",
      "\u001b[1m25/25\u001b[0m \u001b[32m━━━━━━━━━━━━━━━━━━━━\u001b[0m\u001b[37m\u001b[0m \u001b[1m2s\u001b[0m 92ms/step - accuracy: 0.9762 - loss: 0.1158 - val_accuracy: 0.7500 - val_loss: 0.5455\n",
      "Epoch 7/10\n",
      "\u001b[1m25/25\u001b[0m \u001b[32m━━━━━━━━━━━━━━━━━━━━\u001b[0m\u001b[37m\u001b[0m \u001b[1m2s\u001b[0m 91ms/step - accuracy: 0.9850 - loss: 0.0800 - val_accuracy: 0.7800 - val_loss: 0.5714\n",
      "Test Accuracy: 0.7400\n"
     ]
    }
   ],
   "source": [
    "# 6. Train\n",
    "history = model.fit(X_train, y_train,\n",
    "                    epochs=10,\n",
    "                    batch_size=32,\n",
    "                    validation_data=(X_test, y_test),\n",
    "                    callbacks=[earlyStopping],\n",
    "                    verbose=1)\n",
    "# 7. Evaluate\n",
    "loss, acc = model.evaluate(X_test, y_test, verbose=0)\n",
    "print(f\"Test Accuracy: {acc:.4f}\")\n"
   ]
  },
  {
   "cell_type": "code",
   "execution_count": 13,
   "id": "866e3fde",
   "metadata": {},
   "outputs": [
    {
     "data": {
      "image/png": "[encoded data removed]",
      "text/plain": [
       "<Figure size 640x480 with 1 Axes>"
      ]
     },
     "metadata": {},
     "output_type": "display_data"
    }
   ],
   "source": [
    "import matplotlib.pyplot as plt\n",
    "\n",
    "plt.plot(history.history['accuracy'], label='Train Accuracy')\n",
    "plt.plot(history.history['val_accuracy'], label='Validation Accuracy')\n",
    "plt.xlabel('Epoch')\n",
    "plt.ylabel('Accuracy')\n",
    "plt.legend()\n",
    "plt.show()\n"
   ]
  },
  {
   "cell_type": "code",
   "execution_count": 16,
   "id": "1bb565dd",
   "metadata": {},
   "outputs": [
    {
     "name": "stdout",
     "output_type": "stream",
     "text": [
      "\u001b[1m1/1\u001b[0m \u001b[32m━━━━━━━━━━━━━━━━━━━━\u001b[0m\u001b[37m\u001b[0m \u001b[1m0s\u001b[0m 52ms/step\n",
      "('Positive', 0.5701000690460205)\n",
      "\u001b[1m1/1\u001b[0m \u001b[32m━━━━━━━━━━━━━━━━━━━━\u001b[0m\u001b[37m\u001b[0m \u001b[1m0s\u001b[0m 47ms/step\n",
      "('Negative', 0.01228373683989048)\n",
      "\u001b[1m1/1\u001b[0m \u001b[32m━━━━━━━━━━━━━━━━━━━━\u001b[0m\u001b[37m\u001b[0m \u001b[1m0s\u001b[0m 46ms/step\n",
      "('Negative', 0.0010662015993148088)\n",
      "\u001b[1m1/1\u001b[0m \u001b[32m━━━━━━━━━━━━━━━━━━━━\u001b[0m\u001b[37m\u001b[0m \u001b[1m0s\u001b[0m 46ms/step\n",
      "('Negative', 0.4194755554199219)\n",
      "\u001b[1m1/1\u001b[0m \u001b[32m━━━━━━━━━━━━━━━━━━━━\u001b[0m\u001b[37m\u001b[0m \u001b[1m0s\u001b[0m 41ms/step\n",
      "('Negative', 0.47988247871398926)\n",
      "\u001b[1m1/1\u001b[0m \u001b[32m━━━━━━━━━━━━━━━━━━━━\u001b[0m\u001b[37m\u001b[0m \u001b[1m0s\u001b[0m 40ms/step\n",
      "('Negative', 0.07246806472539902)\n",
      "\u001b[1m1/1\u001b[0m \u001b[32m━━━━━━━━━━━━━━━━━━━━\u001b[0m\u001b[37m\u001b[0m \u001b[1m0s\u001b[0m 53ms/step\n",
      "('Positive', 0.5433178544044495)\n"
     ]
    }
   ],
   "source": [
    "#  predict \n",
    "def predict_review(review_text):\n",
    "    review_text = clean_text(review_text)   \n",
    "    seq = tokenizer.texts_to_sequences([review_text])\n",
    "    padded = pad_sequences(seq, maxlen=maxlen)\n",
    "    \n",
    "    pred = model.predict(padded)[0][0]\n",
    "    \n",
    "    sentiment = \"Positive\" if pred >= 0.5 else \"Negative\"\n",
    "    return sentiment, float(pred)\n",
    "\n",
    "print(predict_review(\"The food was absolutely wonderful, will come again!\"))\n",
    "print(predict_review(\"The service was terrible and the food was cold.\"))\n",
    "print(predict_review(\"Overall I was not impressed and would not go back\"))\n",
    "print(predict_review(\"the taste was terible\"))\n",
    "print(predict_review(\"One of the best food\"))\n",
    "print(predict_review(\"One of the worst food\"))\n",
    "print(predict_review(\"One of the tasty food\"))\n"
   ]
  }
 ],
 "metadata": {
  "kernelspec": {
   "display_name": "Python 3",
   "language": "python",
   "name": "python3"
  },
  "language_info": {
   "codemirror_mode": {
    "name": "ipython",
    "version": 3
   },
   "file_extension": ".py",
   "mimetype": "text/x-python",
   "name": "python",
   "nbconvert_exporter": "python",
   "pygments_lexer": "ipython3",
   "version": "3.12.0"
  }
 },
 "nbformat": 4,
 "nbformat_minor": 5
}
