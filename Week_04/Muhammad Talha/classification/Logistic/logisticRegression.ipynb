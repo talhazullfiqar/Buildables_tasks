{
 "cells": [
  {
   "cell_type": "code",
   "execution_count": null,
   "id": "1fcbd486",
   "metadata": {},
   "outputs": [],
   "source": [
    "import pandas as pd\n",
    "from sklearn.model_selection import train_test_split\n",
    "from sklearn.preprocessing import StandardScaler\n",
    "from sklearn.linear_model import LogisticRegression\n",
    "from sklearn.base import is_regressor\n",
    "import numpy as np\n",
    "from sklearn.metrics import confusion_matrix,accuracy_score,r2_score"
   ]
  },
  {
   "cell_type": "code",
   "execution_count": null,
   "id": "0869041e",
   "metadata": {},
   "outputs": [],
   "source": [
    "dataset = pd.read_csv('Social_Network_Ads.csv')\n",
    "x = dataset.iloc[:,:-1].values\n",
    "y = dataset.iloc[:,-1].values"
   ]
  },
  {
   "cell_type": "code",
   "execution_count": null,
   "id": "7f6028c8",
   "metadata": {},
   "outputs": [],
   "source": [
    "#  spliting dataset into training and testing datasets\n",
    "x_train,x_test,y_train,y_test = train_test_split(x,y, train_size=0.75,test_size=0.25,random_state=0)"
   ]
  },
  {
   "cell_type": "code",
   "execution_count": null,
   "id": "729eb0e7",
   "metadata": {},
   "outputs": [],
   "source": [
    "# feature scaling\n",
    "sc = StandardScaler()\n",
    "x_train = sc.fit_transform(x_train)\n",
    "x_test = sc.transform(x_test)"
   ]
  },
  {
   "cell_type": "code",
   "execution_count": null,
   "id": "f1243642",
   "metadata": {},
   "outputs": [],
   "source": [
    "#  training logistic reg modal on training set\n",
    "classifier = LogisticRegression(random_state=0)\n",
    "classifier.fit(x_train,y_train)"
   ]
  },
  {
   "cell_type": "code",
   "execution_count": null,
   "id": "955999a4",
   "metadata": {},
   "outputs": [],
   "source": [
    "#  prediciting a new result\n",
    "\n",
    "print(classifier.predict(sc.transform([[51,23000]])))"
   ]
  },
  {
   "cell_type": "code",
   "execution_count": null,
   "id": "6aca247c",
   "metadata": {},
   "outputs": [],
   "source": [
    "# predicting test set results\n",
    "\n",
    "y_pred = classifier.predict(x_test)\n",
    "print(np.concatenate((y_pred.reshape(len(y_pred),1),y_test.reshape(len(y_test),1)),1))"
   ]
  },
  {
   "cell_type": "code",
   "execution_count": null,
   "id": "8cc26e35",
   "metadata": {},
   "outputs": [],
   "source": [
    "#  making a confusion matrix \n",
    "cm = confusion_matrix(y_test, y_pred)\n",
    "print (cm)\n",
    "\n",
    "accuracy_score(y_test,y_pred)\n"
   ]
  }
 ],
 "metadata": {
  "kernelspec": {
   "display_name": "Python 3",
   "language": "python",
   "name": "python3"
  },
  "language_info": {
   "codemirror_mode": {
    "name": "ipython",
    "version": 3
   },
   "file_extension": ".py",
   "mimetype": "text/x-python",
   "name": "python",
   "nbconvert_exporter": "python",
   "pygments_lexer": "ipython3",
   "version": "3.12.0"
  }
 },
 "nbformat": 4,
 "nbformat_minor": 5
}
